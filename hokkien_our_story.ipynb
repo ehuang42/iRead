{
 "cells": [
  {
   "cell_type": "code",
   "execution_count": 1,
   "metadata": {},
   "outputs": [
    {
     "name": "stdout",
     "output_type": "stream",
     "text": [
      "Requirement already satisfied: beautifulsoup4 in /Library/Frameworks/Python.framework/Versions/3.7/lib/python3.7/site-packages (4.7.1)\n",
      "Requirement already satisfied: soupsieve>=1.2 in /Library/Frameworks/Python.framework/Versions/3.7/lib/python3.7/site-packages (from beautifulsoup4) (1.9.2)\n",
      "Note: you may need to restart the kernel to use updated packages.\n"
     ]
    }
   ],
   "source": [
    "pip install beautifulsoup4"
   ]
  },
  {
   "cell_type": "code",
   "execution_count": 2,
   "metadata": {},
   "outputs": [
    {
     "name": "stdout",
     "output_type": "stream",
     "text": [
      "Requirement already satisfied: requests in /Library/Frameworks/Python.framework/Versions/3.7/lib/python3.7/site-packages (2.22.0)\n",
      "Requirement already satisfied: chardet<3.1.0,>=3.0.2 in /Library/Frameworks/Python.framework/Versions/3.7/lib/python3.7/site-packages (from requests) (3.0.4)\n",
      "Requirement already satisfied: certifi>=2017.4.17 in /Library/Frameworks/Python.framework/Versions/3.7/lib/python3.7/site-packages (from requests) (2019.6.16)\n",
      "Requirement already satisfied: idna<2.9,>=2.5 in /Library/Frameworks/Python.framework/Versions/3.7/lib/python3.7/site-packages (from requests) (2.8)\n",
      "Requirement already satisfied: urllib3!=1.25.0,!=1.25.1,<1.26,>=1.21.1 in /Library/Frameworks/Python.framework/Versions/3.7/lib/python3.7/site-packages (from requests) (1.25.3)\n",
      "Note: you may need to restart the kernel to use updated packages.\n"
     ]
    }
   ],
   "source": [
    "pip install requests"
   ]
  },
  {
   "cell_type": "code",
   "execution_count": 3,
   "metadata": {},
   "outputs": [
    {
     "name": "stdout",
     "output_type": "stream",
     "text": [
      "Requirement already satisfied: Pandas in /Library/Frameworks/Python.framework/Versions/3.7/lib/python3.7/site-packages (0.24.2)\n",
      "Requirement already satisfied: python-dateutil>=2.5.0 in /Library/Frameworks/Python.framework/Versions/3.7/lib/python3.7/site-packages (from Pandas) (2.8.0)\n",
      "Requirement already satisfied: pytz>=2011k in /Library/Frameworks/Python.framework/Versions/3.7/lib/python3.7/site-packages (from Pandas) (2019.1)\n",
      "Requirement already satisfied: numpy>=1.12.0 in /Library/Frameworks/Python.framework/Versions/3.7/lib/python3.7/site-packages (from Pandas) (1.16.4)\n",
      "Requirement already satisfied: six>=1.5 in /Library/Frameworks/Python.framework/Versions/3.7/lib/python3.7/site-packages (from python-dateutil>=2.5.0->Pandas) (1.12.0)\n",
      "Note: you may need to restart the kernel to use updated packages.\n"
     ]
    }
   ],
   "source": [
    "pip install Pandas"
   ]
  },
  {
   "cell_type": "code",
   "execution_count": 4,
   "metadata": {},
   "outputs": [
    {
     "name": "stdout",
     "output_type": "stream",
     "text": [
      "Requirement already satisfied: lxml in /Library/Frameworks/Python.framework/Versions/3.7/lib/python3.7/site-packages (4.3.4)\n",
      "Note: you may need to restart the kernel to use updated packages.\n"
     ]
    }
   ],
   "source": [
    "pip install lxml"
   ]
  },
  {
   "cell_type": "code",
   "execution_count": 5,
   "metadata": {},
   "outputs": [],
   "source": [
    "from bs4 import BeautifulSoup as soup\n",
    "import requests\n",
    "# grabbing the page\n",
    "\n",
    "def getHTML(url_list):\n",
    "    res = requests.get(url, timeout=30)\n",
    "    return (soup(res.text,'lxml'))\n",
    "\n",
    "def grab(parsed_soup, header, className,): \n",
    "    soup = parsed_soup.findAll(header, {\"class\": className})\n",
    "    return(soup)"
   ]
  },
  {
   "cell_type": "code",
   "execution_count": 10,
   "metadata": {
    "scrolled": true
   },
   "outputs": [
    {
     "name": "stdout",
     "output_type": "stream",
     "text": [
      "log http://taoyuanminnan.com.tw/story/\n",
      "[[<h5 class=\"fl-callout-title\"><span><a class=\"fl-callout-title-link fl-callout-title-text\" href=\" http://taoyuanminnan.com.tw/wen-mi-liao/\" target=\"_self\">廖文蜜</a></span></h5>, <h5 class=\"fl-callout-title\"><span><a class=\"fl-callout-title-link fl-callout-title-text\" href=\" http://taoyuanminnan.com.tw/mao-qiang-lian/\" target=\"_self\">連茆強</a></span></h5>, <h5 class=\"fl-callout-title\"><span><a class=\"fl-callout-title-link fl-callout-title-text\" href=\" http://taoyuanminnan.com.tw/de-xin-tang/\" target=\"_self\">德馨堂</a></span></h5>, <h5 class=\"fl-callout-title\"><span><a class=\"fl-callout-title-link fl-callout-title-text\" href=\" http://taoyuanminnan.com.tw/bing-huang-lin/\" target=\"_self\">林丙皇</a></span></h5>, <h5 class=\"fl-callout-title\"><span><a class=\"fl-callout-title-link fl-callout-title-text\" href=\"http://taoyuanminnan.com.tw/sen-shan-xie/\" target=\"_self\">謝森山</a></span></h5>, <h5 class=\"fl-callout-title\"><span><a class=\"fl-callout-title-link fl-callout-title-text\" href=\" http://taoyuanminnan.com.tw/wei-ren-hong/ \" target=\"_self\">洪惟仁</a></span></h5>, <h5 class=\"fl-callout-title\"><span><a class=\"fl-callout-title-link fl-callout-title-text\" href=\"http://taoyuanminnan.com.tw/jin-yong-xu/\" target=\"_self\">許金用</a></span></h5>, <h5 class=\"fl-callout-title\"><span><a class=\"fl-callout-title-link fl-callout-title-text\" href=\" http://taoyuanminnan.com.tw/wen-sheng-ye/\" target=\"_self\">葉文生</a></span></h5>, <h5 class=\"fl-callout-title\"><span><a class=\"fl-callout-title-link fl-callout-title-text\" href=\" http://taoyuanminnan.com.tw/xiu-wen-xie/\" target=\"_self\">謝秀紋</a></span></h5>, <h5 class=\"fl-callout-title\"><span><a class=\"fl-callout-title-link fl-callout-title-text\" href=\" http://taoyuanminnan.com.tw/jun-tian-she/\" target=\"_self\">鈞天社</a></span></h5>, <h5 class=\"fl-callout-title\"><span><a class=\"fl-callout-title-link fl-callout-title-text\" href=\" http://taoyuanminnan.com.tw/long-feng-she/ \" target=\"_self\">龍鳳社</a></span></h5>, <h5 class=\"fl-callout-title\"><span><a class=\"fl-callout-title-link fl-callout-title-text\" href=\" http://taoyuanminnan.com.tw/zheng-long-zhang/\" target=\"_self\">張正隆</a></span></h5>, <h5 class=\"fl-callout-title\"><span><a class=\"fl-callout-title-link fl-callout-title-text\" href=\" http://taoyuanminnan.com.tw/xin-guo-huang/\" target=\"_self\">黃新國</a></span></h5>, <h5 class=\"fl-callout-title\"><span><a class=\"fl-callout-title-link fl-callout-title-text\" href=\"http://taoyuanminnan.com.tw/ming-he-xu/\" target=\"_self\">徐明河</a></span></h5>, <h5 class=\"fl-callout-title\"><span><a class=\"fl-callout-title-link fl-callout-title-text\" href=\"http://taoyuanminnan.com.tw/xie-da-mu-qi-hang/\" target=\"_self\">協大木器行</a></span></h5>, <h5 class=\"fl-callout-title\"><span><a class=\"fl-callout-title-link fl-callout-title-text\" href=\"http://taoyuanminnan.com.tw/tian-sheng-lin/\" target=\"_self\">林天生</a></span></h5>, <h5 class=\"fl-callout-title\"><span><a class=\"fl-callout-title-link fl-callout-title-text\" href=\"http://taoyuanminnan.com.tw/fu-zhi-deng/\" target=\"_self\">鄧福志</a></span></h5>, <h5 class=\"fl-callout-title\"><span><a class=\"fl-callout-title-link fl-callout-title-text\" href=\"http://taoyuanminnan.com.tw/yu-huang-huang/\" target=\"_self\">黃裕凰</a></span></h5>, <h5 class=\"fl-callout-title\"><span><a class=\"fl-callout-title-link fl-callout-title-text\" href=\"http://taoyuanminnan.com.tw/chuan-wang-huang/\" target=\"_self\">黃傳旺</a></span></h5>, <h5 class=\"fl-callout-title\"><span><a class=\"fl-callout-title-link fl-callout-title-text\" href=\"http://taoyuanminnan.com.tw/yu-huan-xie/\" target=\"_self\">謝玉環</a></span></h5>, <h5 class=\"fl-callout-title\"><span><a class=\"fl-callout-title-link fl-callout-title-text\" href=\"http://taoyuanminnan.com.tw/jian-hua-chen/\" target=\"_self\">陳建華</a></span></h5>, <h5 class=\"fl-callout-title\"><span><a class=\"fl-callout-title-link fl-callout-title-text\" href=\"http://taoyuanminnan.com.tw/jin-lu-yang/\" target=\"_self\">楊金祿</a></span></h5>, <h5 class=\"fl-callout-title\"><span><a class=\"fl-callout-title-link fl-callout-title-text\" href=\"http://taoyuanminnan.com.tw/keng-zi-li-dou-li/\" target=\"_self\">坑子里斗笠</a></span></h5>, <h5 class=\"fl-callout-title\"><span><a class=\"fl-callout-title-link fl-callout-title-text\" href=\"http://taoyuanminnan.com.tw/ming-jia-zhi-hu-dian/\" target=\"_self\">名加紙糊店</a></span></h5>]]\n"
     ]
    }
   ],
   "source": [
    "url_list = ['http://taoyuanminnan.com.tw/story/']\n",
    "links_list = []\n",
    "for url in url_list:\n",
    "    print('log', url)\n",
    "    read_html = getHTML(url)\n",
    "    links_list.append(grab(read_html, 'h5', 'fl-callout-title'))\n",
    "print (links_list)\n"
   ]
  },
  {
   "cell_type": "code",
   "execution_count": 15,
   "metadata": {},
   "outputs": [
    {
     "name": "stdout",
     "output_type": "stream",
     "text": [
      "new_category_start\n",
      "廖文蜜\n",
      " http://taoyuanminnan.com.tw/wen-mi-liao/\n",
      "連茆強\n",
      " http://taoyuanminnan.com.tw/mao-qiang-lian/\n",
      "德馨堂\n",
      " http://taoyuanminnan.com.tw/de-xin-tang/\n",
      "林丙皇\n",
      " http://taoyuanminnan.com.tw/bing-huang-lin/\n",
      "謝森山\n",
      "http://taoyuanminnan.com.tw/sen-shan-xie/\n",
      "洪惟仁\n",
      " http://taoyuanminnan.com.tw/wei-ren-hong/ \n",
      "許金用\n",
      "http://taoyuanminnan.com.tw/jin-yong-xu/\n",
      "葉文生\n",
      " http://taoyuanminnan.com.tw/wen-sheng-ye/\n",
      "謝秀紋\n",
      " http://taoyuanminnan.com.tw/xiu-wen-xie/\n",
      "鈞天社\n",
      " http://taoyuanminnan.com.tw/jun-tian-she/\n",
      "龍鳳社\n",
      " http://taoyuanminnan.com.tw/long-feng-she/ \n",
      "張正隆\n",
      " http://taoyuanminnan.com.tw/zheng-long-zhang/\n",
      "黃新國\n",
      " http://taoyuanminnan.com.tw/xin-guo-huang/\n",
      "徐明河\n",
      "http://taoyuanminnan.com.tw/ming-he-xu/\n",
      "協大木器行\n",
      "http://taoyuanminnan.com.tw/xie-da-mu-qi-hang/\n",
      "林天生\n",
      "http://taoyuanminnan.com.tw/tian-sheng-lin/\n",
      "鄧福志\n",
      "http://taoyuanminnan.com.tw/fu-zhi-deng/\n",
      "黃裕凰\n",
      "http://taoyuanminnan.com.tw/yu-huang-huang/\n",
      "黃傳旺\n",
      "http://taoyuanminnan.com.tw/chuan-wang-huang/\n",
      "謝玉環\n",
      "http://taoyuanminnan.com.tw/yu-huan-xie/\n",
      "陳建華\n",
      "http://taoyuanminnan.com.tw/jian-hua-chen/\n",
      "楊金祿\n",
      "http://taoyuanminnan.com.tw/jin-lu-yang/\n",
      "坑子里斗笠\n",
      "http://taoyuanminnan.com.tw/keng-zi-li-dou-li/\n",
      "名加紙糊店\n",
      "http://taoyuanminnan.com.tw/ming-jia-zhi-hu-dian/\n",
      "[{'title': '廖文蜜', 'link': ' http://taoyuanminnan.com.tw/wen-mi-liao/'}, {'title': '連茆強', 'link': ' http://taoyuanminnan.com.tw/mao-qiang-lian/'}, {'title': '德馨堂', 'link': ' http://taoyuanminnan.com.tw/de-xin-tang/'}, {'title': '林丙皇', 'link': ' http://taoyuanminnan.com.tw/bing-huang-lin/'}, {'title': '謝森山', 'link': 'http://taoyuanminnan.com.tw/sen-shan-xie/'}, {'title': '洪惟仁', 'link': ' http://taoyuanminnan.com.tw/wei-ren-hong/ '}, {'title': '許金用', 'link': 'http://taoyuanminnan.com.tw/jin-yong-xu/'}, {'title': '葉文生', 'link': ' http://taoyuanminnan.com.tw/wen-sheng-ye/'}, {'title': '謝秀紋', 'link': ' http://taoyuanminnan.com.tw/xiu-wen-xie/'}, {'title': '鈞天社', 'link': ' http://taoyuanminnan.com.tw/jun-tian-she/'}, {'title': '龍鳳社', 'link': ' http://taoyuanminnan.com.tw/long-feng-she/ '}, {'title': '張正隆', 'link': ' http://taoyuanminnan.com.tw/zheng-long-zhang/'}, {'title': '黃新國', 'link': ' http://taoyuanminnan.com.tw/xin-guo-huang/'}, {'title': '徐明河', 'link': 'http://taoyuanminnan.com.tw/ming-he-xu/'}, {'title': '協大木器行', 'link': 'http://taoyuanminnan.com.tw/xie-da-mu-qi-hang/'}, {'title': '林天生', 'link': 'http://taoyuanminnan.com.tw/tian-sheng-lin/'}, {'title': '鄧福志', 'link': 'http://taoyuanminnan.com.tw/fu-zhi-deng/'}, {'title': '黃裕凰', 'link': 'http://taoyuanminnan.com.tw/yu-huang-huang/'}, {'title': '黃傳旺', 'link': 'http://taoyuanminnan.com.tw/chuan-wang-huang/'}, {'title': '謝玉環', 'link': 'http://taoyuanminnan.com.tw/yu-huan-xie/'}, {'title': '陳建華', 'link': 'http://taoyuanminnan.com.tw/jian-hua-chen/'}, {'title': '楊金祿', 'link': 'http://taoyuanminnan.com.tw/jin-lu-yang/'}, {'title': '坑子里斗笠', 'link': 'http://taoyuanminnan.com.tw/keng-zi-li-dou-li/'}, {'title': '名加紙糊店', 'link': 'http://taoyuanminnan.com.tw/ming-jia-zhi-hu-dian/'}]\n"
     ]
    }
   ],
   "source": [
    "pact = []\n",
    "count = 1\n",
    "for i in links_list:\n",
    "    print('new_category_start')\n",
    "    for index in range(len(i)):\n",
    "        obj = {}\n",
    "#         print(i[index].a)\n",
    "        title = i[index].a.text\n",
    "        link = i[index].a.get('href')\n",
    "        print(title)\n",
    "        print(link)\n",
    "        \n",
    "        \n",
    "        obj['title'] = title\n",
    "        obj['link'] = link\n",
    "\n",
    "        pact.append(obj)\n",
    "    \n",
    "print(pact)\n"
   ]
  },
  {
   "cell_type": "code",
   "execution_count": 16,
   "metadata": {},
   "outputs": [
    {
     "name": "stdout",
     "output_type": "stream",
     "text": [
      "                                                 link  title\n",
      "0            http://taoyuanminnan.com.tw/wen-mi-liao/    廖文蜜\n",
      "1         http://taoyuanminnan.com.tw/mao-qiang-lian/    連茆強\n",
      "2            http://taoyuanminnan.com.tw/de-xin-tang/    德馨堂\n",
      "3         http://taoyuanminnan.com.tw/bing-huang-lin/    林丙皇\n",
      "4           http://taoyuanminnan.com.tw/sen-shan-xie/    謝森山\n",
      "5          http://taoyuanminnan.com.tw/wei-ren-hong/     洪惟仁\n",
      "6            http://taoyuanminnan.com.tw/jin-yong-xu/    許金用\n",
      "7           http://taoyuanminnan.com.tw/wen-sheng-ye/    葉文生\n",
      "8            http://taoyuanminnan.com.tw/xiu-wen-xie/    謝秀紋\n",
      "9           http://taoyuanminnan.com.tw/jun-tian-she/    鈞天社\n",
      "10        http://taoyuanminnan.com.tw/long-feng-she/     龍鳳社\n",
      "11      http://taoyuanminnan.com.tw/zheng-long-zhang/    張正隆\n",
      "12         http://taoyuanminnan.com.tw/xin-guo-huang/    黃新國\n",
      "13            http://taoyuanminnan.com.tw/ming-he-xu/    徐明河\n",
      "14     http://taoyuanminnan.com.tw/xie-da-mu-qi-hang/  協大木器行\n",
      "15        http://taoyuanminnan.com.tw/tian-sheng-lin/    林天生\n",
      "16           http://taoyuanminnan.com.tw/fu-zhi-deng/    鄧福志\n",
      "17        http://taoyuanminnan.com.tw/yu-huang-huang/    黃裕凰\n",
      "18      http://taoyuanminnan.com.tw/chuan-wang-huang/    黃傳旺\n",
      "19           http://taoyuanminnan.com.tw/yu-huan-xie/    謝玉環\n",
      "20         http://taoyuanminnan.com.tw/jian-hua-chen/    陳建華\n",
      "21           http://taoyuanminnan.com.tw/jin-lu-yang/    楊金祿\n",
      "22     http://taoyuanminnan.com.tw/keng-zi-li-dou-li/  坑子里斗笠\n",
      "23  http://taoyuanminnan.com.tw/ming-jia-zhi-hu-dian/  名加紙糊店\n"
     ]
    }
   ],
   "source": [
    "import pandas as pd\n",
    "\n",
    "df = pd.DataFrame(pact)\n",
    "print(df)"
   ]
  },
  {
   "cell_type": "code",
   "execution_count": null,
   "metadata": {},
   "outputs": [],
   "source": []
  }
 ],
 "metadata": {
  "kernelspec": {
   "display_name": "Python 3",
   "language": "python",
   "name": "python3"
  },
  "language_info": {
   "codemirror_mode": {
    "name": "ipython",
    "version": 3
   },
   "file_extension": ".py",
   "mimetype": "text/x-python",
   "name": "python",
   "nbconvert_exporter": "python",
   "pygments_lexer": "ipython3",
   "version": "3.7.2"
  }
 },
 "nbformat": 4,
 "nbformat_minor": 2
}
