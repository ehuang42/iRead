{
 "cells": [
  {
   "cell_type": "code",
   "execution_count": 1,
   "metadata": {},
   "outputs": [
    {
     "name": "stdout",
     "output_type": "stream",
     "text": [
      "Requirement already satisfied: beautifulsoup4 in /Library/Frameworks/Python.framework/Versions/3.7/lib/python3.7/site-packages (4.7.1)\n",
      "Requirement already satisfied: soupsieve>=1.2 in /Library/Frameworks/Python.framework/Versions/3.7/lib/python3.7/site-packages (from beautifulsoup4) (1.9.2)\n",
      "Note: you may need to restart the kernel to use updated packages.\n"
     ]
    }
   ],
   "source": [
    "pip install beautifulsoup4"
   ]
  },
  {
   "cell_type": "code",
   "execution_count": 2,
   "metadata": {},
   "outputs": [
    {
     "name": "stdout",
     "output_type": "stream",
     "text": [
      "Requirement already satisfied: requests in /Library/Frameworks/Python.framework/Versions/3.7/lib/python3.7/site-packages (2.22.0)\n",
      "Requirement already satisfied: chardet<3.1.0,>=3.0.2 in /Library/Frameworks/Python.framework/Versions/3.7/lib/python3.7/site-packages (from requests) (3.0.4)\n",
      "Requirement already satisfied: certifi>=2017.4.17 in /Library/Frameworks/Python.framework/Versions/3.7/lib/python3.7/site-packages (from requests) (2019.6.16)\n",
      "Requirement already satisfied: idna<2.9,>=2.5 in /Library/Frameworks/Python.framework/Versions/3.7/lib/python3.7/site-packages (from requests) (2.8)\n",
      "Requirement already satisfied: urllib3!=1.25.0,!=1.25.1,<1.26,>=1.21.1 in /Library/Frameworks/Python.framework/Versions/3.7/lib/python3.7/site-packages (from requests) (1.25.3)\n",
      "Note: you may need to restart the kernel to use updated packages.\n"
     ]
    }
   ],
   "source": [
    "pip install requests"
   ]
  },
  {
   "cell_type": "code",
   "execution_count": 3,
   "metadata": {},
   "outputs": [
    {
     "name": "stdout",
     "output_type": "stream",
     "text": [
      "Requirement already satisfied: Pandas in /Library/Frameworks/Python.framework/Versions/3.7/lib/python3.7/site-packages (0.24.2)\n",
      "Requirement already satisfied: python-dateutil>=2.5.0 in /Library/Frameworks/Python.framework/Versions/3.7/lib/python3.7/site-packages (from Pandas) (2.8.0)\n",
      "Requirement already satisfied: pytz>=2011k in /Library/Frameworks/Python.framework/Versions/3.7/lib/python3.7/site-packages (from Pandas) (2019.1)\n",
      "Requirement already satisfied: numpy>=1.12.0 in /Library/Frameworks/Python.framework/Versions/3.7/lib/python3.7/site-packages (from Pandas) (1.16.4)\n",
      "Requirement already satisfied: six>=1.5 in /Library/Frameworks/Python.framework/Versions/3.7/lib/python3.7/site-packages (from python-dateutil>=2.5.0->Pandas) (1.12.0)\n",
      "Note: you may need to restart the kernel to use updated packages.\n"
     ]
    }
   ],
   "source": [
    "pip install Pandas"
   ]
  },
  {
   "cell_type": "code",
   "execution_count": 4,
   "metadata": {},
   "outputs": [
    {
     "name": "stdout",
     "output_type": "stream",
     "text": [
      "Requirement already satisfied: lxml in /Library/Frameworks/Python.framework/Versions/3.7/lib/python3.7/site-packages (4.3.4)\n",
      "Note: you may need to restart the kernel to use updated packages.\n"
     ]
    }
   ],
   "source": [
    "pip install lxml"
   ]
  },
  {
   "cell_type": "code",
   "execution_count": 1,
   "metadata": {},
   "outputs": [],
   "source": [
    "from bs4 import BeautifulSoup as soup\n",
    "import requests\n",
    "# grabbing the page\n",
    "\n",
    "def getHTML(url_list):\n",
    "    res = requests.get(url, timeout=30)\n",
    "    return (soup(res.text,'lxml'))\n",
    "\n",
    "def grab(parsed_soup, header, className,): \n",
    "    soup = parsed_soup.findAll(header, {\"class\": className})\n",
    "    return(soup)"
   ]
  },
  {
   "cell_type": "code",
   "execution_count": 2,
   "metadata": {
    "scrolled": true
   },
   "outputs": [],
   "source": [
    "url_list = ['http://taoyuanminnan.com.tw/story/']\n",
    "links_list = []\n",
    "for url in url_list:\n",
    "#     print('log', url)\n",
    "    read_html = getHTML(url)\n",
    "    links_list.append(grab(read_html, 'h5', 'fl-callout-title'))\n",
    "# print (links_list)\n"
   ]
  },
  {
   "cell_type": "code",
   "execution_count": 3,
   "metadata": {},
   "outputs": [],
   "source": [
    "pact = []\n",
    "count = 1\n",
    "for i in links_list:\n",
    "#     print('new_category_start')\n",
    "    for index in range(len(i)):\n",
    "        obj = {}\n",
    "#         print(i[index].a)\n",
    "        title = i[index].a.text\n",
    "        link = i[index].a.get('href')\n",
    "#         print(title)\n",
    "#         print(link)\n",
    "        \n",
    "        \n",
    "        obj['title'] = title\n",
    "        obj['link'] = link\n",
    "\n",
    "        pact.append(obj)\n",
    "    \n",
    "# print(pact)\n"
   ]
  },
  {
   "cell_type": "code",
   "execution_count": 4,
   "metadata": {},
   "outputs": [
    {
     "name": "stdout",
     "output_type": "stream",
     "text": [
      "                                                 link  title\n",
      "0            http://taoyuanminnan.com.tw/wen-mi-liao/    廖文蜜\n",
      "1         http://taoyuanminnan.com.tw/mao-qiang-lian/    連茆強\n",
      "2            http://taoyuanminnan.com.tw/de-xin-tang/    德馨堂\n",
      "3         http://taoyuanminnan.com.tw/bing-huang-lin/    林丙皇\n",
      "4           http://taoyuanminnan.com.tw/sen-shan-xie/    謝森山\n",
      "5          http://taoyuanminnan.com.tw/wei-ren-hong/     洪惟仁\n",
      "6            http://taoyuanminnan.com.tw/jin-yong-xu/    許金用\n",
      "7           http://taoyuanminnan.com.tw/wen-sheng-ye/    葉文生\n",
      "8            http://taoyuanminnan.com.tw/xiu-wen-xie/    謝秀紋\n",
      "9           http://taoyuanminnan.com.tw/jun-tian-she/    鈞天社\n",
      "10        http://taoyuanminnan.com.tw/long-feng-she/     龍鳳社\n",
      "11      http://taoyuanminnan.com.tw/zheng-long-zhang/    張正隆\n",
      "12         http://taoyuanminnan.com.tw/xin-guo-huang/    黃新國\n",
      "13            http://taoyuanminnan.com.tw/ming-he-xu/    徐明河\n",
      "14     http://taoyuanminnan.com.tw/xie-da-mu-qi-hang/  協大木器行\n",
      "15        http://taoyuanminnan.com.tw/tian-sheng-lin/    林天生\n",
      "16           http://taoyuanminnan.com.tw/fu-zhi-deng/    鄧福志\n",
      "17        http://taoyuanminnan.com.tw/yu-huang-huang/    黃裕凰\n",
      "18      http://taoyuanminnan.com.tw/chuan-wang-huang/    黃傳旺\n",
      "19           http://taoyuanminnan.com.tw/yu-huan-xie/    謝玉環\n",
      "20         http://taoyuanminnan.com.tw/jian-hua-chen/    陳建華\n",
      "21           http://taoyuanminnan.com.tw/jin-lu-yang/    楊金祿\n",
      "22     http://taoyuanminnan.com.tw/keng-zi-li-dou-li/  坑子里斗笠\n",
      "23  http://taoyuanminnan.com.tw/ming-jia-zhi-hu-dian/  名加紙糊店\n"
     ]
    }
   ],
   "source": [
    "import pandas as pd\n",
    "\n",
    "df = pd.DataFrame(pact)\n",
    "print(df)"
   ]
  },
  {
   "cell_type": "code",
   "execution_count": null,
   "metadata": {},
   "outputs": [],
   "source": []
  }
 ],
 "metadata": {
  "kernelspec": {
   "display_name": "Python 3",
   "language": "python",
   "name": "python3"
  },
  "language_info": {
   "codemirror_mode": {
    "name": "ipython",
    "version": 3
   },
   "file_extension": ".py",
   "mimetype": "text/x-python",
   "name": "python",
   "nbconvert_exporter": "python",
   "pygments_lexer": "ipython3",
   "version": "3.7.2"
  }
 },
 "nbformat": 4,
 "nbformat_minor": 2
}
