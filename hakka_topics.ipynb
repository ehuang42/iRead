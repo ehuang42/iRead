{
 "cells": [
  {
   "cell_type": "code",
   "execution_count": 1,
   "metadata": {},
   "outputs": [
    {
     "name": "stdout",
     "output_type": "stream",
     "text": [
      "Requirement already satisfied: beautifulsoup4 in /Library/Frameworks/Python.framework/Versions/3.7/lib/python3.7/site-packages (4.7.1)\n",
      "Requirement already satisfied: soupsieve>=1.2 in /Library/Frameworks/Python.framework/Versions/3.7/lib/python3.7/site-packages (from beautifulsoup4) (1.9.2)\n",
      "Note: you may need to restart the kernel to use updated packages.\n"
     ]
    }
   ],
   "source": [
    "pip install beautifulsoup4"
   ]
  },
  {
   "cell_type": "code",
   "execution_count": 2,
   "metadata": {},
   "outputs": [
    {
     "name": "stdout",
     "output_type": "stream",
     "text": [
      "Requirement already satisfied: requests in /Library/Frameworks/Python.framework/Versions/3.7/lib/python3.7/site-packages (2.22.0)\n",
      "Requirement already satisfied: chardet<3.1.0,>=3.0.2 in /Library/Frameworks/Python.framework/Versions/3.7/lib/python3.7/site-packages (from requests) (3.0.4)\n",
      "Requirement already satisfied: certifi>=2017.4.17 in /Library/Frameworks/Python.framework/Versions/3.7/lib/python3.7/site-packages (from requests) (2019.6.16)\n",
      "Requirement already satisfied: idna<2.9,>=2.5 in /Library/Frameworks/Python.framework/Versions/3.7/lib/python3.7/site-packages (from requests) (2.8)\n",
      "Requirement already satisfied: urllib3!=1.25.0,!=1.25.1,<1.26,>=1.21.1 in /Library/Frameworks/Python.framework/Versions/3.7/lib/python3.7/site-packages (from requests) (1.25.3)\n",
      "Note: you may need to restart the kernel to use updated packages.\n"
     ]
    }
   ],
   "source": [
    "pip install requests"
   ]
  },
  {
   "cell_type": "code",
   "execution_count": 3,
   "metadata": {},
   "outputs": [
    {
     "name": "stdout",
     "output_type": "stream",
     "text": [
      "Requirement already satisfied: Pandas in /Library/Frameworks/Python.framework/Versions/3.7/lib/python3.7/site-packages (0.24.2)\n",
      "Requirement already satisfied: python-dateutil>=2.5.0 in /Library/Frameworks/Python.framework/Versions/3.7/lib/python3.7/site-packages (from Pandas) (2.8.0)\n",
      "Requirement already satisfied: pytz>=2011k in /Library/Frameworks/Python.framework/Versions/3.7/lib/python3.7/site-packages (from Pandas) (2019.1)\n",
      "Requirement already satisfied: numpy>=1.12.0 in /Library/Frameworks/Python.framework/Versions/3.7/lib/python3.7/site-packages (from Pandas) (1.16.4)\n",
      "Requirement already satisfied: six>=1.5 in /Library/Frameworks/Python.framework/Versions/3.7/lib/python3.7/site-packages (from python-dateutil>=2.5.0->Pandas) (1.12.0)\n",
      "Note: you may need to restart the kernel to use updated packages.\n"
     ]
    }
   ],
   "source": [
    "pip install Pandas"
   ]
  },
  {
   "cell_type": "code",
   "execution_count": 4,
   "metadata": {},
   "outputs": [
    {
     "name": "stdout",
     "output_type": "stream",
     "text": [
      "Requirement already satisfied: lxml in /Library/Frameworks/Python.framework/Versions/3.7/lib/python3.7/site-packages (4.3.4)\n",
      "Note: you may need to restart the kernel to use updated packages.\n"
     ]
    }
   ],
   "source": [
    "pip install lxml"
   ]
  },
  {
   "cell_type": "code",
   "execution_count": 2,
   "metadata": {},
   "outputs": [],
   "source": [
    "from bs4 import BeautifulSoup as soup\n",
    "import requests\n",
    "# grabbing the page\n",
    "\n",
    "def getHTML(url_list):\n",
    "    res = requests.get(url, timeout=30)\n",
    "    return (soup(res.text,'lxml'))\n",
    "\n",
    "def grab(parsed_soup, header, className,): \n",
    "    soup = parsed_soup.findAll(header, {\"class\": className})\n",
    "    return(soup)"
   ]
  },
  {
   "cell_type": "code",
   "execution_count": 3,
   "metadata": {
    "scrolled": true
   },
   "outputs": [],
   "source": [
    "url_list = []\n",
    "for i in range(12):\n",
    "    url_list.append('https://archives.hakka.gov.tw/topic_list.php?page=' + str(i+1) + '&deployStatus=1')\n",
    "links_list = []\n",
    "for url in url_list:\n",
    "#     print('log', url)\n",
    "    read_html = getHTML(url)\n",
    "    links_list.append(grab(read_html, 'li', 'type-rent topic-sub-container'))\n",
    "# print (links_list)\n"
   ]
  },
  {
   "cell_type": "code",
   "execution_count": 4,
   "metadata": {},
   "outputs": [],
   "source": [
    "pact = []\n",
    "count = 1\n",
    "for i in links_list:\n",
    "#     print('new_category_start')\n",
    "    for index in range(len(i)):\n",
    "        obj = {}\n",
    "#         print(count)\n",
    "        count += 1\n",
    "        link = grab(i[index], 'a', '')\n",
    "        link = link[0].get('href')\n",
    "        title = grab(i[index], 'span', 'topic-sub-font1')[0].text\n",
    "#         print(title)\n",
    "#         print(link)\n",
    "        \n",
    "        obj['title'] = title\n",
    "        obj['link'] = link\n",
    "\n",
    "        pact.append(obj)\n",
    "    \n",
    "# print(pact)\n"
   ]
  },
  {
   "cell_type": "code",
   "execution_count": 5,
   "metadata": {},
   "outputs": [
    {
     "name": "stdout",
     "output_type": "stream",
     "text": [
      "                      link                             title\n",
      "0   topic_detail.php?id=88          歷史最悠久的華人傳統歌唱比賽：竹東客家山歌藝術節\n",
      "1   topic_detail.php?id=87                             意外臺3線\n",
      "2   topic_detail.php?id=86                   龍潭聖蹟亭與敬字惜紙文化之反思\n",
      "3   topic_detail.php?id=85                    談客家歌謠之聲腔表現與審美觀\n",
      "4   topic_detail.php?id=84                      需要被看見的客家傳統藝術\n",
      "5   topic_detail.php?id=83                         傳統客家歌謠的種類\n",
      "6   topic_detail.php?id=82                  淺談－當代客家歌謠合唱的發展概況\n",
      "7   topic_detail.php?id=81                         臺三線上的客家伯公\n",
      "8   topic_detail.php?id=80                     從古蹟看見守護「家」的記憶\n",
      "9   topic_detail.php?id=79                    以地為磚、人文瓦 砌成的夥房\n",
      "10  topic_detail.php?id=78                     漫談台三線上客家自行車綠廊\n",
      "11  topic_detail.php?id=77                            客家茶的特色\n",
      "12  topic_detail.php?id=76                       台三線上客家古道的特色\n",
      "13  topic_detail.php?id=55                漫談元宵節慶活動──迎龍與(火旁)龍\n",
      "14  topic_detail.php?id=48                  口述歷史、客家民間文學蒐集與典藏\n",
      "15  topic_detail.php?id=49     懸命傾注微木雕 身後華宇任飄搖－－從木藝師邱和順看客家傳藝\n",
      "16  topic_detail.php?id=46               客家與賽夏族-一段峨眉溪畔的族群變遷史\n",
      "17  topic_detail.php?id=47                      客家生命禮俗中的石母信仰\n",
      "18  topic_detail.php?id=40                          客家說唱藝術傳承\n",
      "19   topic_detail.php?id=3                       客家聚落守護神--伯公\n",
      "20  topic_detail.php?id=75                  幼兒園客家教育推廣經驗分享與建議\n",
      "21  topic_detail.php?id=70                             連家樟樹群\n",
      "22  topic_detail.php?id=58         客家文學創作的傳承與展望－與鍾理和紀念館的美麗交會\n",
      "23  topic_detail.php?id=57               人人都可以是導演--建構全民影像資料庫\n",
      "24  topic_detail.php?id=56     青春作伴好還鄉-美濃後生返鄉投入觀光資源盤點與社區產業發展\n",
      "25  topic_detail.php?id=50                           客家的飲食文化\n",
      "26  topic_detail.php?id=51                           客家的飲食文化\n",
      "27  topic_detail.php?id=52                   舌尖上的美食──梅州客家釀豆腐\n",
      "28  topic_detail.php?id=45     我的客家歌謠天后母親 - 談母親一生對客家山歌之發展與貢獻\n",
      "29  topic_detail.php?id=44   探索臺灣客家建築的在地化-南部夥房與中、北部伙房的客家民居討論\n",
      "..                     ...                               ...\n",
      "38  topic_detail.php?id=33                      旅行味蕾～客家的柿餅色味\n",
      "39  topic_detail.php?id=32                            泛論關西古道\n",
      "40  topic_detail.php?id=31  The Origins of the Hakka Gua Zhi\n",
      "41  topic_detail.php?id=30                       三山國王信仰與客家足跡\n",
      "42  topic_detail.php?id=29                      客家夥房的美學與文化意涵\n",
      "43  topic_detail.php?id=28                 從民間菜餚分析台灣北客家菜飲食特色\n",
      "44  topic_detail.php?id=27                        客家諺語的諺證與啟示\n",
      "45  topic_detail.php?id=26                             六堆運動會\n",
      "46  topic_detail.php?id=25                       客家人的謝平安與收冬戲\n",
      "47  topic_detail.php?id=24                    樸石映母儀：客家人的石母信仰\n",
      "48  topic_detail.php?id=23                       美濃油紙傘的歷史與傳承\n",
      "49  topic_detail.php?id=22                            客家出生禮俗\n",
      "50  topic_detail.php?id=21                屏東平原客家六堆-保鄉護土的忠義精神\n",
      "51  topic_detail.php?id=20                         客家掛紙習俗的由來\n",
      "52  topic_detail.php?id=19                     敬字客庄-六堆敬字信仰簡介\n",
      "53  topic_detail.php?id=18                          臺灣客家文學素描\n",
      "54  topic_detail.php?id=17                   食遊客庄－新竹，美在虛無飄渺間\n",
      "55  topic_detail.php?id=16                         敍說王爺奶奶回娘家\n",
      "56  topic_detail.php?id=15                           台灣客家採茶戲\n",
      "57  topic_detail.php?id=14                          戲說台灣客家音樂\n",
      "58  topic_detail.php?id=13                         客家婦女與傳統產業\n",
      "59  topic_detail.php?id=12                              客家藍衫\n",
      "60  topic_detail.php?id=11                         我期待的客家菜未來\n",
      "61  topic_detail.php?id=10                客庄繽紛多元文化，八月初二來拜伯公生\n",
      "62   topic_detail.php?id=9                      義民信仰：定義北臺灣客家\n",
      "63   topic_detail.php?id=8                              主委的話\n",
      "64   topic_detail.php?id=7                     客家：臺灣土地的親善經營者\n",
      "65   topic_detail.php?id=6                            客家建築采風\n",
      "66   topic_detail.php?id=5                       客家聚落的文化景觀構成\n",
      "67   topic_detail.php?id=2               臺灣客庄洗衣場－見證水圳文化與客家精神\n",
      "\n",
      "[68 rows x 2 columns]\n"
     ]
    }
   ],
   "source": [
    "import pandas as pd\n",
    "\n",
    "df = pd.DataFrame(pact)\n",
    "print(df)"
   ]
  },
  {
   "cell_type": "code",
   "execution_count": null,
   "metadata": {},
   "outputs": [],
   "source": []
  }
 ],
 "metadata": {
  "kernelspec": {
   "display_name": "Python 3",
   "language": "python",
   "name": "python3"
  },
  "language_info": {
   "codemirror_mode": {
    "name": "ipython",
    "version": 3
   },
   "file_extension": ".py",
   "mimetype": "text/x-python",
   "name": "python",
   "nbconvert_exporter": "python",
   "pygments_lexer": "ipython3",
   "version": "3.7.2"
  }
 },
 "nbformat": 4,
 "nbformat_minor": 2
}
