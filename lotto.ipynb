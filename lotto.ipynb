{
 "cells": [
  {
   "cell_type": "code",
   "execution_count": 1,
   "metadata": {},
   "outputs": [
    {
     "name": "stdout",
     "output_type": "stream",
     "text": [
      "Requirement already satisfied: beautifulsoup4 in /Library/Frameworks/Python.framework/Versions/3.7/lib/python3.7/site-packages (4.7.1)\n",
      "Requirement already satisfied: soupsieve>=1.2 in /Library/Frameworks/Python.framework/Versions/3.7/lib/python3.7/site-packages (from beautifulsoup4) (1.9.2)\n",
      "\u001b[33mYou are using pip version 18.1, however version 19.1.1 is available.\n",
      "You should consider upgrading via the 'pip install --upgrade pip' command.\u001b[0m\n",
      "Note: you may need to restart the kernel to use updated packages.\n"
     ]
    }
   ],
   "source": [
    "pip install beautifulsoup4"
   ]
  },
  {
   "cell_type": "code",
   "execution_count": 2,
   "metadata": {},
   "outputs": [
    {
     "name": "stdout",
     "output_type": "stream",
     "text": [
      "Collecting lxml\n",
      "\u001b[?25l  Downloading https://files.pythonhosted.org/packages/1d/16/c220beb03c4b4609924f0fc1bee5e0e5e8082089103fdc0b2a7c8b8bb003/lxml-4.3.4-cp37-cp37m-macosx_10_6_intel.macosx_10_9_intel.macosx_10_9_x86_64.macosx_10_10_intel.macosx_10_10_x86_64.whl (8.7MB)\n",
      "\u001b[K    100% |████████████████████████████████| 8.7MB 1.5MB/s ta 0:00:011\n",
      "\u001b[?25hInstalling collected packages: lxml\n",
      "Successfully installed lxml-4.3.4\n",
      "\u001b[33mYou are using pip version 18.1, however version 19.1.1 is available.\n",
      "You should consider upgrading via the 'pip install --upgrade pip' command.\u001b[0m\n",
      "Note: you may need to restart the kernel to use updated packages.\n"
     ]
    }
   ],
   "source": [
    "pip install lxml\n"
   ]
  },
  {
   "cell_type": "code",
   "execution_count": 3,
   "metadata": {},
   "outputs": [
    {
     "name": "stdout",
     "output_type": "stream",
     "text": [
      "Collecting requests\n",
      "\u001b[?25l  Downloading https://files.pythonhosted.org/packages/51/bd/23c926cd341ea6b7dd0b2a00aba99ae0f828be89d72b2190f27c11d4b7fb/requests-2.22.0-py2.py3-none-any.whl (57kB)\n",
      "\u001b[K    100% |████████████████████████████████| 61kB 907kB/s ta 0:00:01\n",
      "\u001b[?25hCollecting idna<2.9,>=2.5 (from requests)\n",
      "  Using cached https://files.pythonhosted.org/packages/14/2c/cd551d81dbe15200be1cf41cd03869a46fe7226e7450af7a6545bfc474c9/idna-2.8-py2.py3-none-any.whl\n",
      "Collecting urllib3!=1.25.0,!=1.25.1,<1.26,>=1.21.1 (from requests)\n",
      "\u001b[?25l  Downloading https://files.pythonhosted.org/packages/e6/60/247f23a7121ae632d62811ba7f273d0e58972d75e58a94d329d51550a47d/urllib3-1.25.3-py2.py3-none-any.whl (150kB)\n",
      "\u001b[K    100% |████████████████████████████████| 153kB 2.6MB/s ta 0:00:01\n",
      "\u001b[?25hCollecting chardet<3.1.0,>=3.0.2 (from requests)\n",
      "  Using cached https://files.pythonhosted.org/packages/bc/a9/01ffebfb562e4274b6487b4bb1ddec7ca55ec7510b22e4c51f14098443b8/chardet-3.0.4-py2.py3-none-any.whl\n",
      "Collecting certifi>=2017.4.17 (from requests)\n",
      "\u001b[?25l  Downloading https://files.pythonhosted.org/packages/69/1b/b853c7a9d4f6a6d00749e94eb6f3a041e342a885b87340b79c1ef73e3a78/certifi-2019.6.16-py2.py3-none-any.whl (157kB)\n",
      "\u001b[K    100% |████████████████████████████████| 163kB 2.5MB/s ta 0:00:01\n",
      "\u001b[?25hInstalling collected packages: idna, urllib3, chardet, certifi, requests\n",
      "Successfully installed certifi-2019.6.16 chardet-3.0.4 idna-2.8 requests-2.22.0 urllib3-1.25.3\n",
      "\u001b[33mYou are using pip version 18.1, however version 19.1.1 is available.\n",
      "You should consider upgrading via the 'pip install --upgrade pip' command.\u001b[0m\n",
      "Note: you may need to restart the kernel to use updated packages.\n"
     ]
    }
   ],
   "source": [
    "pip install requests"
   ]
  },
  {
   "cell_type": "code",
   "execution_count": 4,
   "metadata": {},
   "outputs": [
    {
     "name": "stdout",
     "output_type": "stream",
     "text": [
      "Collecting Pandas\n",
      "\u001b[?25l  Downloading https://files.pythonhosted.org/packages/fc/43/fd867e3347559845c8f993059d410c50a1e18709f1c4d4b3b47323a06a37/pandas-0.24.2-cp37-cp37m-macosx_10_6_intel.macosx_10_9_intel.macosx_10_9_x86_64.macosx_10_10_intel.macosx_10_10_x86_64.whl (15.9MB)\n",
      "\u001b[K    100% |████████████████████████████████| 15.9MB 1.5MB/s ta 0:00:011\n",
      "\u001b[?25hCollecting pytz>=2011k (from Pandas)\n",
      "  Using cached https://files.pythonhosted.org/packages/3d/73/fe30c2daaaa0713420d0382b16fbb761409f532c56bdcc514bf7b6262bb6/pytz-2019.1-py2.py3-none-any.whl\n",
      "Requirement already satisfied: python-dateutil>=2.5.0 in /Library/Frameworks/Python.framework/Versions/3.7/lib/python3.7/site-packages (from Pandas) (2.8.0)\n",
      "Collecting numpy>=1.12.0 (from Pandas)\n",
      "\u001b[?25l  Downloading https://files.pythonhosted.org/packages/6b/be/608b7f72b851472388eafc010a5d46dae5d41610d0ac5df4c98c2ed1b865/numpy-1.16.4-cp37-cp37m-macosx_10_6_intel.macosx_10_9_intel.macosx_10_9_x86_64.macosx_10_10_intel.macosx_10_10_x86_64.whl (13.9MB)\n",
      "\u001b[K    100% |████████████████████████████████| 13.9MB 1.4MB/s ta 0:00:011\n",
      "\u001b[?25hRequirement already satisfied: six>=1.5 in /Library/Frameworks/Python.framework/Versions/3.7/lib/python3.7/site-packages (from python-dateutil>=2.5.0->Pandas) (1.12.0)\n",
      "Installing collected packages: pytz, numpy, Pandas\n",
      "Successfully installed Pandas-0.24.2 numpy-1.16.4 pytz-2019.1\n",
      "\u001b[33mYou are using pip version 18.1, however version 19.1.1 is available.\n",
      "You should consider upgrading via the 'pip install --upgrade pip' command.\u001b[0m\n",
      "Note: you may need to restart the kernel to use updated packages.\n"
     ]
    }
   ],
   "source": [
    "pip install Pandas\n"
   ]
  },
  {
   "cell_type": "code",
   "execution_count": 2,
   "metadata": {},
   "outputs": [],
   "source": [
    "from bs4 import BeautifulSoup\n",
    "import requests\n",
    "\n",
    "winning_Numbers_Series = []\n",
    "winning_Numbers_Sort_lotto = ['Lotto649Control_history_dlQuery_No1_','Lotto649Control_history_dlQuery_No2_','Lotto649Control_history_dlQuery_No3_','Lotto649Control_history_dlQuery_No4_','Lotto649Control_history_dlQuery_No5_','Lotto649Control_history_dlQuery_No6_','Lotto649Control_history_dlQuery_SNo_']\n",
    "for index in range(10):\n",
    "    winning_Numbers_Series.append('Lotto649Control_history_dlQuery_L649_DrawTerm_' + str(index))\n",
    "# print(winning_Numbers_Series)\n",
    "\n",
    "def parse_winning_numbers(series, info_list, count):\n",
    "    data_list = []\n",
    "    data_dict = {}\n",
    "    list_num = 0\n",
    "    for index in range (len(info_list)):\n",
    "        data_list.append(info_list[index].text)\n",
    "        if index == 0:\n",
    "            data_dict[series[list_num].text] = [info_list[index].text]\n",
    "        elif index%count == 0: #start new list in dict\n",
    "            list_num += 1\n",
    "            data_dict[series[list_num].text] = [info_list[index].text]\n",
    "        else: #keep adding\n",
    "            data_dict[series[list_num].text].append(info_list[index].text)\n",
    "    return data_list, data_dict   \n",
    "def search_winning_numbers(css_class):\n",
    "    global winning_Numbers_Sort_lotto\n",
    "    if(css_class != None):\n",
    "        for i in range(len(winning_Numbers_Sort_lotto )):\n",
    "            if winning_Numbers_Sort_lotto [i] in css_class:\n",
    "                return css_class\n",
    "def search_winning_series(css_class):\n",
    "    global winning_Numbers_Series\n",
    "    if(css_class != None):\n",
    "        for i in range(len(winning_Numbers_Series )):\n",
    "            if winning_Numbers_Series[i] in css_class:\n",
    "                return css_class  \n",
    "head_Html_lotto='http://www.taiwanlottery.com.tw/Lotto/Lotto649/history.aspx'\n",
    "res = requests.get(head_Html_lotto, timeout=30)\n",
    "#print(res.text)\n",
    "soup = BeautifulSoup(res.text,'lxml')\n",
    "#print(soup2.prettify())\n",
    "header_Info = soup.find_all(id=search_winning_numbers)\n",
    "series_Info = soup.find_all(id=search_winning_series)\n",
    "\n",
    "parsed_list, parsed_dict = parse_winning_numbers(series_Info, header_Info, 7)\n",
    "\n"
   ]
  },
  {
   "cell_type": "code",
   "execution_count": 9,
   "metadata": {},
   "outputs": [],
   "source": [
    "# print(\"parsed_dict: \", parsed_dict)\n",
    "# print(\"parsed_list: \", parsed_list)"
   ]
  },
  {
   "cell_type": "code",
   "execution_count": 7,
   "metadata": {},
   "outputs": [],
   "source": [
    "import pandas as pd\n",
    "\n",
    "load = []\n",
    "index = []\n",
    "for item in parsed_dict:\n",
    "    load.append(parsed_dict[item])\n",
    "    index.append(item)\n",
    "# print(index)\n",
    "serie_1 = pd.Series(load, index=index)\n",
    "\n",
    "# print(serie_1)"
   ]
  },
  {
   "cell_type": "code",
   "execution_count": 8,
   "metadata": {},
   "outputs": [],
   "source": [
    "# import pandas as pd\n",
    "import pandas as pd\n",
    " \n",
    "# list of strings\n",
    "lst = [{'Name':'Eric',\"Age\":'30'}, {'Name':'For',\"Age\":'31'}]\n",
    " \n",
    "# Calling DataFrame constructor on list\n",
    "df = pd.DataFrame(parsed_dict)\n",
    "# print(df)"
   ]
  },
  {
   "cell_type": "code",
   "execution_count": 6,
   "metadata": {},
   "outputs": [
    {
     "name": "stdout",
     "output_type": "stream",
     "text": [
      "  num_0 num_1 num_2 num_3 num_4 num_5 num_6         期別\n",
      "0    08    20    31    36    38    45    33  108000058\n",
      "1    07    12    26    30    31    32    13  108000057\n",
      "2    05    16    27    29    33    45    28  108000056\n",
      "3    06    10    12    22    24    37    03  108000055\n",
      "4    06    31    32    39    40    42    28  108000054\n",
      "5    18    22    26    27    30    38    45  108000053\n",
      "6    05    06    19    23    43    48    07  108000052\n",
      "7    08    15    21    31    36    46    18  108000051\n",
      "8    03    11    22    36    38    40    07  108000050\n",
      "9    12    13    19    21    29    39    41  108000049\n"
     ]
    }
   ],
   "source": [
    "import pandas as pd\n",
    "\n",
    "load  = {}\n",
    "index = []\n",
    "winnsnumber_list =[]\n",
    "for key in parsed_dict:\n",
    "    load = {}\n",
    "    load[\"期別\"]= key\n",
    "    for index in range(len(parsed_dict[key])):\n",
    "        load[\"num_\"+str(index)] = parsed_dict[key][index] \n",
    "    winnsnumber_list.append(dict(load))\n",
    "df = pd.DataFrame(winnsnumber_list)\n",
    "print(df)\n"
   ]
  },
  {
   "cell_type": "code",
   "execution_count": null,
   "metadata": {},
   "outputs": [],
   "source": []
  }
 ],
 "metadata": {
  "kernelspec": {
   "display_name": "Python 3",
   "language": "python",
   "name": "python3"
  },
  "language_info": {
   "codemirror_mode": {
    "name": "ipython",
    "version": 3
   },
   "file_extension": ".py",
   "mimetype": "text/x-python",
   "name": "python",
   "nbconvert_exporter": "python",
   "pygments_lexer": "ipython3",
   "version": "3.7.2"
  }
 },
 "nbformat": 4,
 "nbformat_minor": 2
}
